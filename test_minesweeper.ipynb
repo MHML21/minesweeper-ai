{
 "cells": [
  {
   "cell_type": "code",
   "execution_count": 1,
   "metadata": {},
   "outputs": [],
   "source": [
    "import numpy as np\n",
    "import random\n",
    "import math\n",
    "import pandas as pd\n",
    "from minesweeper import *"
   ]
  },
  {
   "cell_type": "code",
   "execution_count": 2,
   "metadata": {},
   "outputs": [],
   "source": [
    "def printmat(a, fmt=\"%5.f\"):\n",
    "    for v in a:\n",
    "        print(\" \".join(str(fmt % x) for x in v))\n",
    "        \n",
    "def click_print(row, col):\n",
    "    _, reward, _ = env.dig(row,col)\n",
    "    print(\"\\n\")\n",
    "    print(\"Initial Board: \")\n",
    "    printmat(env.board*8)\n",
    "    print(\"Initial Mine: \")\n",
    "    printmat(env.mines)\n",
    "    print(\"Reward : \", reward)\n",
    "    "
   ]
  },
  {
   "cell_type": "code",
   "execution_count": 3,
   "metadata": {},
   "outputs": [
    {
     "name": "stdout",
     "output_type": "stream",
     "text": [
      "NO PROGRESS\n",
      "NO PROGRESS\n",
      "NO PROGRESS\n",
      "NO PROGRESS\n",
      "NO PROGRESS\n",
      "NO PROGRESS\n",
      "NO PROGRESS\n",
      "NO PROGRESS\n",
      "NO PROGRESS\n",
      "NO PROGRESS\n",
      "NO PROGRESS\n",
      "NO PROGRESS\n",
      "NO PROGRESS\n",
      "NO PROGRESS\n",
      "NO PROGRESS\n",
      "NO PROGRESS\n",
      "NO PROGRESS\n",
      "NO PROGRESS\n",
      "NO PROGRESS\n",
      "NO PROGRESS\n",
      "NO PROGRESS\n",
      "NO PROGRESS\n",
      "NO PROGRESS\n",
      "NO PROGRESS\n",
      "NO PROGRESS\n",
      "NO PROGRESS\n",
      "NO PROGRESS\n",
      "NO PROGRESS\n",
      "Initial Board: \n",
      "    0     0     0     0     0     1    -8    -8    -8\n",
      "    1     1     0     0     0     1     2     2    -8\n",
      "   -8     2     1     1     1     0     0     1    -8\n",
      "   -8    -8    -8    -8     1     0     1     2    -8\n",
      "   -8    -8    -8    -8     2     1     2    -8    -8\n",
      "   -8    -8    -8    -8    -8    -8    -8    -8    -8\n",
      "   -8    -8    -8    -8    -8    -8    -8    -8    -8\n",
      "   -8    -8    -8    -8    -8    -8    -8    -8    -8\n",
      "   -8    -8    -8    -8    -8    -8    -8    -8    -8\n",
      "Initial Mine: \n",
      "    0     0     0     0     0     0     1     1     0\n",
      "    0     0     0     0     0     0     0     0     0\n",
      "    1     0     0     0     0     0     0     0     0\n",
      "    1     0     0     1     0     0     0     0     1\n",
      "    0     0     0     0     0     0     0     1     0\n",
      "    1     0     1     1     0     0     1     0     0\n",
      "    1     1     0     0     0     0     0     0     0\n",
      "    0     0     0     0     0     0     1     0     0\n",
      "    0     0     0     0     0     1     0     0     0\n"
     ]
    }
   ],
   "source": [
    "# Initialize the Board (9x9 matrix)\n",
    "env = Board(9, 9)\n",
    "env.set_mines_about(3,5,15)\n",
    "print(\"Initial Board: \")\n",
    "printmat(env.board*8)\n",
    "print(\"Initial Mine: \")\n",
    "printmat(env.mines)"
   ]
  },
  {
   "cell_type": "code",
   "execution_count": 4,
   "metadata": {},
   "outputs": [
    {
     "name": "stdout",
     "output_type": "stream",
     "text": [
      "NO PROGRESS\n",
      "\n",
      "\n",
      "Initial Board: \n",
      "    0     0     0     0     0     1    -8    -8    -8\n",
      "    1     1     0     0     0     1     2     2    -8\n",
      "   -8     2     1     1     1     0     0     1    -8\n",
      "   -8    -8    -8    -8     1     0     1     2    -8\n",
      "   -8    -8    -8    -8     2     1     2    -8    -8\n",
      "   -8     4    -8    -8    -8    -8    -8    -8    -8\n",
      "   -8    -8    -8    -8    -8    -8    -8    -8    -8\n",
      "   -8    -8    -8    -8    -8    -8    -8    -8    -8\n",
      "   -8    -8    -8    -8    -8    -8    -8    -8    -8\n",
      "Initial Mine: \n",
      "    0     0     0     0     0     0     1     1     0\n",
      "    0     0     0     0     0     0     0     0     0\n",
      "    1     0     0     0     0     0     0     0     0\n",
      "    1     0     0     1     0     0     0     0     1\n",
      "    0     0     0     0     0     0     0     1     0\n",
      "    1     0     1     1     0     0     1     0     0\n",
      "    1     1     0     0     0     0     0     0     0\n",
      "    0     0     0     0     0     0     1     0     0\n",
      "    0     0     0     0     0     1     0     0     0\n",
      "Reward :  -0.3\n"
     ]
    }
   ],
   "source": [
    "click_print(5, 1)"
   ]
  },
  {
   "cell_type": "code",
   "execution_count": 5,
   "metadata": {},
   "outputs": [
    {
     "name": "stdout",
     "output_type": "stream",
     "text": [
      "INVALID MOVE\n",
      "\n",
      "\n",
      "Initial Board: \n",
      "    0     0     0     0     0     1    -8    -8    -8\n",
      "    1     1     0     0     0     1     2     2    -8\n",
      "   -8     2     1     1     1     0     0     1    -8\n",
      "   -8    -8    -8    -8     1     0     1     2    -8\n",
      "   -8    -8    -8    -8     2     1     2    -8    -8\n",
      "   -8     4    -8    -8    -8    -8    -8    -8    -8\n",
      "   -8    -8    -8    -8    -8    -8    -8    -8    -8\n",
      "   -8    -8    -8    -8    -8    -8    -8    -8    -8\n",
      "   -8    -8    -8    -8    -8    -8    -8    -8    -8\n",
      "Initial Mine: \n",
      "    0     0     0     0     0     0     1     1     0\n",
      "    0     0     0     0     0     0     0     0     0\n",
      "    1     0     0     0     0     0     0     0     0\n",
      "    1     0     0     1     0     0     0     0     1\n",
      "    0     0     0     0     0     0     0     1     0\n",
      "    1     0     1     1     0     0     1     0     0\n",
      "    1     1     0     0     0     0     0     0     0\n",
      "    0     0     0     0     0     0     1     0     0\n",
      "    0     0     0     0     0     1     0     0     0\n",
      "Reward :  -0.3\n"
     ]
    }
   ],
   "source": [
    "click_print(5, 1)"
   ]
  },
  {
   "cell_type": "code",
   "execution_count": 6,
   "metadata": {},
   "outputs": [
    {
     "name": "stdout",
     "output_type": "stream",
     "text": [
      "NO PROGRESS\n",
      "\n",
      "\n",
      "Initial Board: \n",
      "    0     0     0     0     0     1    -8    -8    -8\n",
      "    1     1     0     0     0     1     2     2    -8\n",
      "   -8     2     1     1     1     0     0     1    -8\n",
      "   -8    -8    -8    -8     1     0     1     2    -8\n",
      "   -8    -8    -8    -8     2     1     2    -8    -8\n",
      "   -8     4    -8    -8    -8    -8    -8    -8    -8\n",
      "   -8    -8    -8    -8    -8    -8    -8    -8    -8\n",
      "   -8    -8    -8    -8    -8    -8    -8    -8    -8\n",
      "   -8    -8    -8    -8     1    -8    -8    -8    -8\n",
      "Initial Mine: \n",
      "    0     0     0     0     0     0     1     1     0\n",
      "    0     0     0     0     0     0     0     0     0\n",
      "    1     0     0     0     0     0     0     0     0\n",
      "    1     0     0     1     0     0     0     0     1\n",
      "    0     0     0     0     0     0     0     1     0\n",
      "    1     0     1     1     0     0     1     0     0\n",
      "    1     1     0     0     0     0     0     0     0\n",
      "    0     0     0     0     0     0     1     0     0\n",
      "    0     0     0     0     0     1     0     0     0\n",
      "Reward :  -0.3\n"
     ]
    }
   ],
   "source": [
    "click_print(8, 4)"
   ]
  },
  {
   "cell_type": "code",
   "execution_count": null,
   "metadata": {},
   "outputs": [],
   "source": []
  }
 ],
 "metadata": {
  "kernelspec": {
   "display_name": "Python 3 (ipykernel)",
   "language": "python",
   "name": "python3"
  },
  "language_info": {
   "codemirror_mode": {
    "name": "ipython",
    "version": 3
   },
   "file_extension": ".py",
   "mimetype": "text/x-python",
   "name": "python",
   "nbconvert_exporter": "python",
   "pygments_lexer": "ipython3",
   "version": "3.9.7"
  }
 },
 "nbformat": 4,
 "nbformat_minor": 2
}
